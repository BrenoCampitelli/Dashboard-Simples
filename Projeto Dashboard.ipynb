{
 "cells": [
  {
   "cell_type": "code",
   "execution_count": 7,
   "id": "808b3397",
   "metadata": {},
   "outputs": [
    {
     "data": {
      "text/html": [
       "\n",
       "        <iframe\n",
       "            width=\"100%\"\n",
       "            height=\"650\"\n",
       "            src=\"http://127.0.0.1:8050/\"\n",
       "            frameborder=\"0\"\n",
       "            allowfullscreen\n",
       "            \n",
       "        ></iframe>\n",
       "        "
      ],
      "text/plain": [
       "<IPython.lib.display.IFrame at 0x2257b2fb680>"
      ]
     },
     "metadata": {},
     "output_type": "display_data"
    }
   ],
   "source": [
    "from dash import Dash, html, dcc, Input, Output\n",
    "import plotly.express as px\n",
    "import pandas as pd\n",
    "import dash_auth\n",
    "\n",
    "#USUARIOS = {\n",
    "#    \"Lira\": \"123456\",\n",
    "#    \"Hashtag\": \"98765\",\n",
    "#}\n",
    "\n",
    "\n",
    "app = Dash(__name__) # criando o seu aplicativo Dash\n",
    "\n",
    "\n",
    "# assume you have a \"long-form\" data frame\n",
    "# see https://plotly.com/python/px-arguments/ for more options\n",
    "df = pd.read_excel(\"Vendas.xlsx\")\n",
    "\n",
    "# df = tabela = dataframe\n",
    "\n",
    "# plotly\n",
    "fig = px.bar(df, x=\"Produto\", y=\"Quantidade\", color=\"ID Loja\", barmode=\"group\")\n",
    "fig2 = px.scatter(df, x=\"Quantidade\", y=\"Valor Final\", color=\"Produto\", size=\"Valor Unitário\", size_max=60)\n",
    "\n",
    "\n",
    "#lista_marcas = [\"Treinamentos\", \"Programação\", \"Todas\"]\n",
    "lista_marcas = list(df[\"Marca\"].unique())\n",
    "lista_marcas.append(\"Todas\")\n",
    "\n",
    "# layout\n",
    "app.layout = html.Div(children=[\n",
    "    html.H1(children='Meu Dashboard'),\n",
    "\n",
    "    html.Div(children='''\n",
    "        Dashboard de Vendas em Python\n",
    "    '''),\n",
    "    \n",
    "    html.H3(children=\"Vendas de cada Produto por Loja\", id=\"subtitulo\"),\n",
    "    \n",
    "    dcc.RadioItems(lista_marcas, value=\"Todas\", id='selecao_marcas'),\n",
    "    dcc.Graph(id='vendas_por_loja',figure=fig),\n",
    "    dcc.Graph(id='distribuicao_vendas', figure=fig2),\n",
    "    \n",
    "    \n",
    "], style={\"text-align\": \"center\"})\n",
    "\n",
    "# callbacks -> dar funcionalidade pro nosso dashboard (conecta os botões com os gráficos)\n",
    "@app.callback(\n",
    "    Output('subtitulo', 'children'), # eu quero modificar (eu quero que o botão do input modifique)\n",
    "    Output('vendas_por_loja', 'figure'),\n",
    "    Output('distribuicao_vendas', 'figure'),\n",
    "    Input('selecao_marcas', 'value'), # quem está modificando/de onde eu quero pegar a informacao/que tá fazendo um filtro\n",
    ")\n",
    "def selecionar_marca(marca):\n",
    "    if marca == \"Todas\":\n",
    "        texto = \"Vendas de cada Produto por Loja\"\n",
    "        fig = px.bar(df, x=\"Produto\", y=\"Quantidade\", color=\"ID Loja\", barmode=\"group\")\n",
    "        fig2 = px.scatter(df, x=\"Quantidade\", y=\"Valor Final\", color=\"Produto\", size=\"Valor Unitário\", size_max=60)\n",
    "    else:\n",
    "        # marca = \"Treinamentos\"\n",
    "        # marca = \"Programação\"\n",
    "        # filtrar as linhas da tabela onde a marca é igual a variável marca\n",
    "        df_filtrada = df.loc[df['Marca']==marca, :]\n",
    "        texto = f\"Vendas de cada Produto por Loja da {marca}\"\n",
    "        fig = px.bar(df_filtrada, x=\"Produto\", y=\"Quantidade\", color=\"ID Loja\", barmode=\"group\")\n",
    "        fig2 = px.scatter(df_filtrada, x=\"Quantidade\", y=\"Valor Final\", color=\"Produto\", size=\"Valor Unitário\", size_max=60)\n",
    "    return texto, fig, fig2\n",
    "\n",
    "\n",
    "# colocando o seu site (seu dashboard) no ar\n",
    "if __name__ == '__main__':\n",
    "    app.run(debug=False)"
   ]
  }
 ],
 "metadata": {
  "kernelspec": {
   "display_name": "Python 3",
   "language": "python",
   "name": "python3"
  },
  "language_info": {
   "codemirror_mode": {
    "name": "ipython",
    "version": 3
   },
   "file_extension": ".py",
   "mimetype": "text/x-python",
   "name": "python",
   "nbconvert_exporter": "python",
   "pygments_lexer": "ipython3",
   "version": "3.13.1"
  }
 },
 "nbformat": 4,
 "nbformat_minor": 5
}
